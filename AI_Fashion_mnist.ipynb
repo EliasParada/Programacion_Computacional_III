{
  "nbformat": 4,
  "nbformat_minor": 0,
  "metadata": {
    "colab": {
      "name": "AI_Fashion_mnist.ipynb",
      "provenance": [],
      "collapsed_sections": [],
      "include_colab_link": true
    },
    "kernelspec": {
      "name": "python3",
      "display_name": "Python 3"
    },
    "language_info": {
      "name": "python"
    }
  },
  "cells": [
    {
      "cell_type": "markdown",
      "metadata": {
        "id": "view-in-github",
        "colab_type": "text"
      },
      "source": [
        "<a href=\"https://colab.research.google.com/github/EliasParada/Programacion_Computacional_III/blob/AI_fashion_mnist/AI_Fashion_mnist.ipynb\" target=\"_parent\"><img src=\"https://colab.research.google.com/assets/colab-badge.svg\" alt=\"Open In Colab\"/></a>"
      ]
    },
    {
      "cell_type": "code",
      "metadata": {
        "id": "LrAGFoKU4kA4"
      },
      "source": [
        "#Importar Librerias\n",
        "import tensorflow as tf\n",
        "import matplotlib.pyplot as plt\n",
        "import numpy as np\n",
        "import math\n",
        "import tensorflow_datasets as dts"
      ],
      "execution_count": null,
      "outputs": []
    },
    {
      "cell_type": "code",
      "metadata": {
        "id": "g9UAem5j5zEI"
      },
      "source": [
        "#Importar fashion_mnist\n",
        "dataset, metedata = dts.load('fashion_mnist', as_supervised=True, with_info=True)\n",
        "dataTrain, dataTest = dataset['train'], dataset['test']"
      ],
      "execution_count": null,
      "outputs": []
    },
    {
      "cell_type": "code",
      "metadata": {
        "id": "J9IY3MKm6gMA"
      },
      "source": [
        "#Crear las etiquetas\n",
        "tags = [\"Camiseta\", \"Pantalón\", \"Sueter\", \"Vestido\", \"Abrigo\", \"Sandalia\", \"Camisa\", \"Zapatilla\", \"Bolso\", \"Bota\"]"
      ],
      "execution_count": null,
      "outputs": []
    },
    {
      "cell_type": "code",
      "metadata": {
        "colab": {
          "base_uri": "https://localhost:8080/"
        },
        "id": "uKkKe9849je4",
        "outputId": "26910f5b-8f73-4685-c90e-2fe16383107e"
      },
      "source": [
        "numTraint = metedata.splits[\"train\"].num_examples\n",
        "numTest = metedata.splits[\"test\"].num_examples\n",
        "print(numTraint, numTest)"
      ],
      "execution_count": null,
      "outputs": [
        {
          "output_type": "stream",
          "name": "stdout",
          "text": [
            "60000 10000\n"
          ]
        }
      ]
    },
    {
      "cell_type": "code",
      "metadata": {
        "id": "90PN3siD9z22"
      },
      "source": [
        "#Normalizar\n",
        "def normalizar(imgs, lbls):\n",
        "  imgs = tf.cast(imgs, tf.float32)\n",
        "  imgs /= 255\n",
        "  return imgs, lbls"
      ],
      "execution_count": null,
      "outputs": []
    },
    {
      "cell_type": "code",
      "metadata": {
        "id": "sWun4rZ_-JK_"
      },
      "source": [
        "#Comprimir los datos\n",
        "dataTrain = dataTrain.map(normalizar)\n",
        "dataTest = dataTest.map(normalizar)"
      ],
      "execution_count": null,
      "outputs": []
    },
    {
      "cell_type": "code",
      "metadata": {
        "id": "yRprTYOY-V-2"
      },
      "source": [
        "#Crear la red neuronal\n",
        "model = tf.keras.Sequential([\n",
        "                                       tf.keras.layers.Flatten(input_shape=(28,28,1)),\n",
        "                                       tf.keras.layers.Dense(80, activation=tf.nn.relu),\n",
        "                                       tf.keras.layers.Dense(80, activation=tf.nn.relu),\n",
        "                                       tf.keras.layers.Dense(10, activation=tf.nn.softmax)\n",
        "])"
      ],
      "execution_count": null,
      "outputs": []
    },
    {
      "cell_type": "code",
      "metadata": {
        "id": "vp4hVeff-hHO"
      },
      "source": [
        "#Compilar\n",
        "model.compile(\n",
        "    optimizer=\"adam\",\n",
        "    loss=\"sparse_categorical_crossentropy\",\n",
        "    metrics=[\"accuracy\"]\n",
        ")"
      ],
      "execution_count": null,
      "outputs": []
    },
    {
      "cell_type": "code",
      "metadata": {
        "id": "hI_lywWz-nre"
      },
      "source": [
        "#Randomizar la entrada de datos\n",
        "batchsize = 32\n",
        "dataTrain = dataTrain.repeat().shuffle(numTraint).batch(batchsize)\n",
        "dataTest = dataTest.repeat().shuffle(numTest).batch(batchsize)"
      ],
      "execution_count": null,
      "outputs": []
    },
    {
      "cell_type": "code",
      "metadata": {
        "colab": {
          "base_uri": "https://localhost:8080/"
        },
        "id": "y1zjVS3n-0DV",
        "outputId": "c0fdb2ad-2c9b-466e-bc2e-73fa97cb3d92"
      },
      "source": [
        "#Entrenar el modelo\n",
        "model.fit(dataTrain, epochs=10, steps_per_epoch=math.ceil(numTraint/batchsize), verbose=2)"
      ],
      "execution_count": null,
      "outputs": [
        {
          "output_type": "stream",
          "name": "stdout",
          "text": [
            "Epoch 1/10\n",
            "1875/1875 - 12s - loss: 0.5033 - accuracy: 0.8207\n",
            "Epoch 2/10\n",
            "1875/1875 - 6s - loss: 0.3713 - accuracy: 0.8644\n",
            "Epoch 3/10\n",
            "1875/1875 - 6s - loss: 0.3386 - accuracy: 0.8756\n",
            "Epoch 4/10\n",
            "1875/1875 - 6s - loss: 0.3118 - accuracy: 0.8830\n",
            "Epoch 5/10\n",
            "1875/1875 - 6s - loss: 0.3027 - accuracy: 0.8882\n",
            "Epoch 6/10\n",
            "1875/1875 - 6s - loss: 0.2824 - accuracy: 0.8958\n",
            "Epoch 7/10\n",
            "1875/1875 - 6s - loss: 0.2734 - accuracy: 0.8964\n",
            "Epoch 8/10\n",
            "1875/1875 - 6s - loss: 0.2648 - accuracy: 0.9006\n",
            "Epoch 9/10\n",
            "1875/1875 - 6s - loss: 0.2520 - accuracy: 0.9048\n",
            "Epoch 10/10\n",
            "1875/1875 - 6s - loss: 0.2454 - accuracy: 0.9069\n"
          ]
        },
        {
          "output_type": "execute_result",
          "data": {
            "text/plain": [
              "<keras.callbacks.History at 0x7f6d3da50e50>"
            ]
          },
          "metadata": {},
          "execution_count": 72
        }
      ]
    },
    {
      "cell_type": "code",
      "metadata": {
        "colab": {
          "base_uri": "https://localhost:8080/"
        },
        "id": "3k43LvW9_Aw-",
        "outputId": "d888fd77-c9c1-4b0c-c60b-8b909f9f3306"
      },
      "source": [
        "#Observar el margen de error\n",
        "perFail, accuracy = model.evaluate(dataTest, steps=math.ceil(numTest/batchsize))\n",
        "print(\"Falló por un \", perFail, ', y acerto por un', accuracy)"
      ],
      "execution_count": null,
      "outputs": [
        {
          "output_type": "stream",
          "name": "stdout",
          "text": [
            "313/313 [==============================] - 2s 3ms/step - loss: 0.3466 - accuracy: 0.8817\n",
            "Falló por un  0.3465706706047058 , y acerto por un 0.8816893100738525\n"
          ]
        }
      ]
    },
    {
      "cell_type": "code",
      "metadata": {
        "id": "aNZZV-4b_xMw"
      },
      "source": [
        "#Graficar la imagen\n",
        "def grafImg(prdArray, trueLabels, img):\n",
        "  prdArray, trueLabels, img = prdArray[i], trueLabels[i], img[i]\n",
        "  plt.grid(False)\n",
        "  plt.xticks([])\n",
        "  plt.yticks([])\n",
        "  plt.imshow(img[...,0], cmap=plt.cm.binary)\n",
        "\n",
        "  lblPrd = np.argmax(prdArray)\n",
        "  if lblPrd == trueLabels:\n",
        "    color = \"#068E00\"\n",
        "  else:\n",
        "    color = \"#A70000\"\n",
        "  \n",
        "  plt.xlabel(\"Predict: {}\".format(tags[lblPrd]), color=color)"
      ],
      "execution_count": null,
      "outputs": []
    },
    {
      "cell_type": "code",
      "metadata": {
        "id": "47cG0MXUAgJH",
        "colab": {
          "base_uri": "https://localhost:8080/"
        },
        "outputId": "38e0e880-2a9d-404e-ed25-7f430d436a8c"
      },
      "source": [
        "#Transformar imagenes en arrays\n",
        "for imgTest, tagTest in dataTest.take(1):\n",
        "  imgTest = imgTest.numpy()\n",
        "  tagTest = tagTest.numpy()\n",
        "  prd = model.predict(imgTest)"
      ],
      "execution_count": null,
      "outputs": [
        {
          "output_type": "stream",
          "name": "stdout",
          "text": [
            "WARNING:tensorflow:5 out of the last 7 calls to <function Model.make_predict_function.<locals>.predict_function at 0x7f6d32646830> triggered tf.function retracing. Tracing is expensive and the excessive number of tracings could be due to (1) creating @tf.function repeatedly in a loop, (2) passing tensors with different shapes, (3) passing Python objects instead of tensors. For (1), please define your @tf.function outside of the loop. For (2), @tf.function has experimental_relax_shapes=True option that relaxes argument shapes that can avoid unnecessary retracing. For (3), please refer to https://www.tensorflow.org/guide/function#controlling_retracing and https://www.tensorflow.org/api_docs/python/tf/function for  more details.\n"
          ]
        },
        {
          "output_type": "stream",
          "name": "stderr",
          "text": [
            "WARNING:tensorflow:5 out of the last 7 calls to <function Model.make_predict_function.<locals>.predict_function at 0x7f6d32646830> triggered tf.function retracing. Tracing is expensive and the excessive number of tracings could be due to (1) creating @tf.function repeatedly in a loop, (2) passing tensors with different shapes, (3) passing Python objects instead of tensors. For (1), please define your @tf.function outside of the loop. For (2), @tf.function has experimental_relax_shapes=True option that relaxes argument shapes that can avoid unnecessary retracing. For (3), please refer to https://www.tensorflow.org/guide/function#controlling_retracing and https://www.tensorflow.org/api_docs/python/tf/function for  more details.\n"
          ]
        }
      ]
    },
    {
      "cell_type": "code",
      "metadata": {
        "id": "2-k4PtwhA3N2"
      },
      "source": [
        "#Graficar el margen de error y el acierto\n",
        "def grafMatriz(subPlt, prdMatriz, trueTag):\n",
        "  prdMatriz, trueTag = prdMatriz[i], trueTag[i]\n",
        "  plt.grid(False)\n",
        "  plt.xticks([])\n",
        "  plt.yticks([])\n",
        "  plt.ylim([0,1])\n",
        "  subPlt.set_facecolor(\"#B2FDAF\")\n",
        "  thisPlot = plt.bar(range(10), prdMatriz, color='#7C8C7C')\n",
        "  prdTag = np.argmax(prdMatriz)\n",
        "\n",
        "  thisPlot[prdTag].set_color(\"#A70000\")\n",
        "  thisPlot[trueTag].set_color(\"#068E00\")"
      ],
      "execution_count": null,
      "outputs": []
    },
    {
      "cell_type": "code",
      "metadata": {
        "colab": {
          "base_uri": "https://localhost:8080/",
          "height": 593
        },
        "id": "QBMbM_8HBUuV",
        "outputId": "3f2d871d-9c9a-4372-a0e6-21c6eee3cf51"
      },
      "source": [
        "rows = 5\n",
        "columns = 3\n",
        "numImg = rows*columns\n",
        "\n",
        "plt.figure(figsize=(2*2*columns, 2*rows))\n",
        "\n",
        "for i in range(numImg):\n",
        "  imgSubplt = plt.subplot(rows, 2*columns, 2*i+1)\n",
        "  grafImg(prd, tagTest, imgTest)\n",
        "\n",
        "  grafSubplt = plt.subplot(rows, 2*columns, 2*i+2)\n",
        "  grafMatriz(grafSubplt, prd, tagTest)\n",
        "\n",
        "plt.rcParams['figure.facecolor'] = '#CEFCCC'\n",
        "plt.rcParams['font.size'] = 14\n",
        "plt.show()"
      ],
      "execution_count": null,
      "outputs": [
        {
          "output_type": "display_data",
          "data": {
            "image/png": "[encoded data removed]",
            "text/plain": [
              "<Figure size 864x720 with 30 Axes>"
            ]
          },
          "metadata": {}
        }
      ]
    },
    {
      "cell_type": "code",
      "metadata": {
        "colab": {
          "base_uri": "https://localhost:8080/"
        },
        "id": "A9oBP4wdDUaG",
        "outputId": "b91e42e2-0d78-4e0a-b4f3-051f1a5bbe8d"
      },
      "source": [
        "import cv2\n",
        "#Agregando imagen\n",
        "imgLocal = cv2.imread('/content/shirt.png', 0)\n",
        "imgLocal = tf.cast(imgLocal, tf.float32)\n",
        "imgLocal = imgLocal / 255\n",
        "imgLocal = np.expand_dims(imgLocal, axis=0)\n",
        "\n",
        "print(imgLocal.shape)"
      ],
      "execution_count": null,
      "outputs": [
        {
          "output_type": "stream",
          "name": "stdout",
          "text": [
            "(1, 28, 28)\n"
          ]
        }
      ]
    },
    {
      "cell_type": "code",
      "metadata": {
        "colab": {
          "base_uri": "https://localhost:8080/"
        },
        "id": "z-9rlTmjJI70",
        "outputId": "5f69e925-f2ff-4c2a-b51d-f156d20de236"
      },
      "source": [
        "#Entrenar\n",
        "prdLocal = model.predict(imgLocal, batch_size=1)\n",
        "tagLocalTest = np.argmax(prdLocal)\n",
        "print(prdLocal)"
      ],
      "execution_count": null,
      "outputs": [
        {
          "output_type": "stream",
          "name": "stdout",
          "text": [
            "[[3.4057809e-04 1.3762834e-09 1.1340764e-03 1.2948565e-02 9.9750310e-02\n",
            "  1.2809499e-05 8.8574815e-01 3.6392937e-12 6.5522079e-05 2.2342448e-08]]\n"
          ]
        }
      ]
    },
    {
      "cell_type": "code",
      "metadata": {
        "colab": {
          "base_uri": "https://localhost:8080/",
          "height": 203
        },
        "id": "dV4imA9DxZBT",
        "outputId": "5fdc6261-56d3-4280-ce8f-c40c80b5e10e"
      },
      "source": [
        "#Imprimir\n",
        "columns = 2\n",
        "rows = 2\n",
        "\n",
        "plt.figure(figsize=(2*2*columns, 2*rows))\n",
        "plt.subplot(rows, 2*columns, 2*0+1)\n",
        "plt.grid(False)\n",
        "plt.xticks([])\n",
        "plt.yticks([])\n",
        "plt.imshow(imgLocal[0,...], cmap=plt.cm.binary)\n",
        "plt.xlabel(\"Predict: {}\".format(tags[tagLocalTest]), color='#068E00')\n",
        "\n",
        "grafLocalSubplt = plt.subplot(rows, 2*columns, 2*0+2)\n",
        "plt.grid(False)\n",
        "plt.xticks([])\n",
        "plt.yticks([])\n",
        "thisplot = plt.bar(range(10), prdLocal[0], color='#7C8C7C')\n",
        "plt.ylim([0,1])\n",
        "grafLocalSubplt.set_facecolor(\"#B2FDAF\")\n",
        "thisplot[tagLocalTest].set_color(\"#A70000\")\n",
        "thisplot[tagLocalTest].set_color(\"#068E00\")\n",
        "plt.xticks(range(10), tags, rotation=90)\n",
        "\n",
        "plt.rcParams['figure.facecolor'] = '#CEFCCC'\n",
        "plt.rcParams['font.size'] = 14\n",
        "plt.show()"
      ],
      "execution_count": null,
      "outputs": [
        {
          "output_type": "display_data",
          "data": {
            "image/png": "[encoded data removed]",
            "text/plain": [
              "<Figure size 576x288 with 2 Axes>"
            ]
          },
          "metadata": {}
        }
      ]
    }
  ]
}